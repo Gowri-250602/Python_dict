{
 "cells": [
  {
   "cell_type": "code",
   "execution_count": 26,
   "id": "feeaf3fd-7aa9-43a8-8c0b-f88565aa6bbb",
   "metadata": {},
   "outputs": [
    {
     "data": {
      "text/plain": [
       "95"
      ]
     },
     "execution_count": 26,
     "metadata": {},
     "output_type": "execute_result"
    }
   ],
   "source": [
    "#dict\n",
    "\n",
    "dic={\"gowri\":90,\"manokari\":75,\"raj\":95,\"hare\":95}\n",
    "dic[\"raj\"]"
   ]
  },
  {
   "cell_type": "code",
   "execution_count": 4,
   "id": "d693a72a-8f62-4061-b0f0-c59a45f80769",
   "metadata": {},
   "outputs": [
    {
     "name": "stdout",
     "output_type": "stream",
     "text": [
      "4\n"
     ]
    }
   ],
   "source": [
    "#len of the dictionary\n",
    "print(len(dic))\n"
   ]
  },
  {
   "cell_type": "code",
   "execution_count": 6,
   "id": "64301e0e-e33a-43d8-be32-c0d655f6232d",
   "metadata": {},
   "outputs": [
    {
     "data": {
      "text/plain": [
       "dict_keys(['gowri', 'manokari', 'raj', 'hare'])"
      ]
     },
     "execution_count": 6,
     "metadata": {},
     "output_type": "execute_result"
    }
   ],
   "source": [
    "dic.keys()"
   ]
  },
  {
   "cell_type": "code",
   "execution_count": 8,
   "id": "7a1062c6-ae3a-4202-bfd8-b4e1fdd87fb6",
   "metadata": {},
   "outputs": [
    {
     "data": {
      "text/plain": [
       "dict_values([90, 75, 95, 95])"
      ]
     },
     "execution_count": 8,
     "metadata": {},
     "output_type": "execute_result"
    }
   ],
   "source": [
    "dic.values()"
   ]
  },
  {
   "cell_type": "code",
   "execution_count": 34,
   "id": "78a074d0-5549-4360-8869-d31a8947da59",
   "metadata": {},
   "outputs": [
    {
     "data": {
      "text/plain": [
       "{'gowri': 20}"
      ]
     },
     "execution_count": 34,
     "metadata": {},
     "output_type": "execute_result"
    }
   ],
   "source": [
    "#to add the values in dictionary\n",
    "#keys are unique...no duplicates allowed\n",
    "\n",
    "dic[\"gowri\"]=20\n",
    "dic"
   ]
  },
  {
   "cell_type": "code",
   "execution_count": 27,
   "id": "627a3e4e-a584-43f6-b010-99177de7e15b",
   "metadata": {},
   "outputs": [
    {
     "data": {
      "text/plain": [
       "{'gowri': 90, 'manokari': 75, 'raj': 95, 'hare': 95, 'nextnew_key': 65}"
      ]
     },
     "execution_count": 27,
     "metadata": {},
     "output_type": "execute_result"
    }
   ],
   "source": [
    "dic.update({\"nextnew_key\":65})\n",
    "dic"
   ]
  },
  {
   "cell_type": "code",
   "execution_count": 29,
   "id": "137df9ec-cf2a-4e0d-882e-5255f25093ad",
   "metadata": {},
   "outputs": [
    {
     "data": {
      "text/plain": [
       "{'gowri': 90, 'manokari': 75, 'raj': 95, 'hare': 95, 'nextnew_key': 65}"
      ]
     },
     "execution_count": 29,
     "metadata": {},
     "output_type": "execute_result"
    }
   ],
   "source": [
    "dic.pop(\"new_key\")\n",
    "dic"
   ]
  },
  {
   "cell_type": "code",
   "execution_count": 25,
   "id": "b36c7cb1-e2d8-49f5-b238-bca3874fb81c",
   "metadata": {},
   "outputs": [
    {
     "data": {
      "text/plain": [
       "{'gowri': 90}"
      ]
     },
     "execution_count": 25,
     "metadata": {},
     "output_type": "execute_result"
    }
   ],
   "source": [
    "dic.popitem()\n",
    "dic"
   ]
  },
  {
   "cell_type": "code",
   "execution_count": 32,
   "id": "88387676-0592-45dc-8aeb-a29da53947fc",
   "metadata": {},
   "outputs": [
    {
     "data": {
      "text/plain": [
       "{'manokari': 75, 'raj': 95, 'nextnew_key': 65}"
      ]
     },
     "execution_count": 32,
     "metadata": {},
     "output_type": "execute_result"
    }
   ],
   "source": [
    "del dic[\"hare\"]\n",
    "dic"
   ]
  },
  {
   "cell_type": "code",
   "execution_count": 33,
   "id": "31d11a3a-77e8-41ce-8562-236b4ae9021c",
   "metadata": {},
   "outputs": [
    {
     "data": {
      "text/plain": [
       "{}"
      ]
     },
     "execution_count": 33,
     "metadata": {},
     "output_type": "execute_result"
    }
   ],
   "source": [
    "dic.clear()\n",
    "dic"
   ]
  }
 ],
 "metadata": {
  "kernelspec": {
   "display_name": "Python 3 (ipykernel)",
   "language": "python",
   "name": "python3"
  },
  "language_info": {
   "codemirror_mode": {
    "name": "ipython",
    "version": 3
   },
   "file_extension": ".py",
   "mimetype": "text/x-python",
   "name": "python",
   "nbconvert_exporter": "python",
   "pygments_lexer": "ipython3",
   "version": "3.12.7"
  }
 },
 "nbformat": 4,
 "nbformat_minor": 5
}
