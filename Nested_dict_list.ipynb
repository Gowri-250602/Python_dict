{
 "cells": [
  {
   "cell_type": "code",
   "execution_count": 5,
   "id": "dcb89df1-aada-49e1-9df6-ef22721f6606",
   "metadata": {},
   "outputs": [
    {
     "name": "stdout",
     "output_type": "stream",
     "text": [
      "{'gowri': {'DOB': 0, 'place': 'abc'}, 'raj': {'DOB': 0, 'place': 'xyz'}}\n"
     ]
    }
   ],
   "source": [
    "#nested dictionary\n",
    "d={\n",
    "    \"gowri\":{\"DOB\":00-00-0000,\"place\":\"abc\"},\n",
    "    \"raj\":{\"DOB\":00-00-0000,\"place\":\"xyz\"}\n",
    "}\n",
    "print(d)"
   ]
  },
  {
   "cell_type": "code",
   "execution_count": 8,
   "id": "910e9b34-f7b4-49b2-b7b2-14fae87d8e95",
   "metadata": {},
   "outputs": [
    {
     "data": {
      "text/plain": [
       "{'DOB': 0, 'place': 'abc'}"
      ]
     },
     "execution_count": 8,
     "metadata": {},
     "output_type": "execute_result"
    }
   ],
   "source": [
    "#indexing\n",
    "\n",
    "d[\"gowri\"]\n"
   ]
  },
  {
   "cell_type": "code",
   "execution_count": 10,
   "id": "82c20efc-2c08-4bcf-831e-5ae509c39a57",
   "metadata": {},
   "outputs": [
    {
     "data": {
      "text/plain": [
       "'xyz'"
      ]
     },
     "execution_count": 10,
     "metadata": {},
     "output_type": "execute_result"
    }
   ],
   "source": [
    "d[\"raj\"][\"place\"]"
   ]
  },
  {
   "cell_type": "code",
   "execution_count": 14,
   "id": "c4bb21ed-83f0-46ce-9790-3cab8c6e9dda",
   "metadata": {},
   "outputs": [],
   "source": [
    "gowri={\n",
    "    \"DOB\":00-00-000,\n",
    "    \"place\":\"abc\"\n",
    "}\n",
    "\n",
    "raj={\n",
    "     \"DOB\":00-00-000,\n",
    "    \"place\":\"xyz\"\n",
    "}\n",
    "\n",
    "fam={\n",
    "    \"gowri\":gowri,\n",
    "    \"raj\":raj\n",
    "}"
   ]
  },
  {
   "cell_type": "code",
   "execution_count": 17,
   "id": "bf6e0dbd-c05d-49b3-9e63-56e85a4ba4aa",
   "metadata": {},
   "outputs": [
    {
     "data": {
      "text/plain": [
       "'abc'"
      ]
     },
     "execution_count": 17,
     "metadata": {},
     "output_type": "execute_result"
    }
   ],
   "source": [
    "fam[\"gowri\"][\"place\"]"
   ]
  },
  {
   "cell_type": "code",
   "execution_count": 28,
   "id": "14ad41b5-2795-479a-ba71-54183d256bf5",
   "metadata": {},
   "outputs": [
    {
     "name": "stdout",
     "output_type": "stream",
     "text": [
      "{'e': 68, 'd': 90, 'f': 100}\n"
     ]
    }
   ],
   "source": [
    "a={\"d\":90,\"e\":68,\"f\":100}\n",
    "b=dict(sorted(a.items(),key=lambda item: item[1]))\n",
    "print(b)"
   ]
  },
  {
   "cell_type": "code",
   "execution_count": 27,
   "id": "b561f4a2-61d8-43b5-9b27-999962ebedeb",
   "metadata": {},
   "outputs": [
    {
     "data": {
      "text/plain": [
       "{'Ben': 75, 'Denver': 85, 'Alex': 88, 'Cyrus': 93}"
      ]
     },
     "execution_count": 27,
     "metadata": {},
     "output_type": "execute_result"
    }
   ],
   "source": [
    "student_scores = {\n",
    "    'Alex': 88,\n",
    "    'Ben': 75,\n",
    "    'Cyrus': 93,\n",
    "    'Denver': 85\n",
    "}\n",
    "sorted_by_values = dict(sorted(student_scores.items(), key=lambda item: item[1]))\n",
    "sorted_by_values\n"
   ]
  }
 ],
 "metadata": {
  "kernelspec": {
   "display_name": "Python 3 (ipykernel)",
   "language": "python",
   "name": "python3"
  },
  "language_info": {
   "codemirror_mode": {
    "name": "ipython",
    "version": 3
   },
   "file_extension": ".py",
   "mimetype": "text/x-python",
   "name": "python",
   "nbconvert_exporter": "python",
   "pygments_lexer": "ipython3",
   "version": "3.12.7"
  }
 },
 "nbformat": 4,
 "nbformat_minor": 5
}
